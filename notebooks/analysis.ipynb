{
 "cells": [
  {
   "cell_type": "markdown",
   "metadata": {},
   "source": [
    "# Analysis of GS-15 employees at DOJ\n",
    "\n",
    "The analysis in this notebook counts the number of Department of Justice employees who, as of the end of March 2017, had attained a pay grade of `GS-15` the highest grade on the General Schedule pay scale.\n",
    "\n",
    "The data comes from the \"__FedScope Employment Cube (March 2017)__\" file [published by the Office of Personnel Management](https://www.opm.gov/data/Index.aspx?tag=FedScope)."
   ]
  },
  {
   "cell_type": "markdown",
   "metadata": {},
   "source": [
    "## Load the data"
   ]
  },
  {
   "cell_type": "code",
   "execution_count": 1,
   "metadata": {
    "collapsed": true
   },
   "outputs": [],
   "source": [
    "import pandas as pd"
   ]
  },
  {
   "cell_type": "markdown",
   "metadata": {},
   "source": [
    "#### Employees"
   ]
  },
  {
   "cell_type": "code",
   "execution_count": 2,
   "metadata": {},
   "outputs": [
    {
     "data": {
      "text/html": [
       "<div>\n",
       "<table border=\"1\" class=\"dataframe\">\n",
       "  <thead>\n",
       "    <tr style=\"text-align: right;\">\n",
       "      <th></th>\n",
       "      <th>AGYSUB</th>\n",
       "      <th>LOC</th>\n",
       "      <th>AGELVL</th>\n",
       "      <th>EDLVL</th>\n",
       "      <th>GSEGRD</th>\n",
       "      <th>LOSLVL</th>\n",
       "      <th>OCC</th>\n",
       "      <th>PATCO</th>\n",
       "      <th>PPGRD</th>\n",
       "      <th>SALLVL</th>\n",
       "      <th>STEMOCC</th>\n",
       "      <th>SUPERVIS</th>\n",
       "      <th>TOA</th>\n",
       "      <th>WORKSCH</th>\n",
       "      <th>WORKSTAT</th>\n",
       "      <th>DATECODE</th>\n",
       "      <th>EMPLOYMENT</th>\n",
       "      <th>SALARY</th>\n",
       "      <th>LOS</th>\n",
       "    </tr>\n",
       "  </thead>\n",
       "  <tbody>\n",
       "    <tr>\n",
       "      <th>0</th>\n",
       "      <td>AA00</td>\n",
       "      <td>11</td>\n",
       "      <td>K</td>\n",
       "      <td>21</td>\n",
       "      <td>15</td>\n",
       "      <td>J</td>\n",
       "      <td>0905</td>\n",
       "      <td>1</td>\n",
       "      <td>GS-15</td>\n",
       "      <td>P</td>\n",
       "      <td>XXXX</td>\n",
       "      <td>8</td>\n",
       "      <td>30</td>\n",
       "      <td>F</td>\n",
       "      <td>1</td>\n",
       "      <td>201703</td>\n",
       "      <td>1</td>\n",
       "      <td>161900.0</td>\n",
       "      <td>42.4</td>\n",
       "    </tr>\n",
       "    <tr>\n",
       "      <th>1</th>\n",
       "      <td>AA00</td>\n",
       "      <td>11</td>\n",
       "      <td>G</td>\n",
       "      <td>15</td>\n",
       "      <td>NaN</td>\n",
       "      <td>D</td>\n",
       "      <td>0301</td>\n",
       "      <td>2</td>\n",
       "      <td>ES-**</td>\n",
       "      <td>Q</td>\n",
       "      <td>XXXX</td>\n",
       "      <td>2</td>\n",
       "      <td>50</td>\n",
       "      <td>F</td>\n",
       "      <td>1</td>\n",
       "      <td>201703</td>\n",
       "      <td>1</td>\n",
       "      <td>172100.0</td>\n",
       "      <td>7.4</td>\n",
       "    </tr>\n",
       "    <tr>\n",
       "      <th>2</th>\n",
       "      <td>AA00</td>\n",
       "      <td>11</td>\n",
       "      <td>H</td>\n",
       "      <td>15</td>\n",
       "      <td>NaN</td>\n",
       "      <td>G</td>\n",
       "      <td>0905</td>\n",
       "      <td>1</td>\n",
       "      <td>ES-**</td>\n",
       "      <td>Q</td>\n",
       "      <td>XXXX</td>\n",
       "      <td>2</td>\n",
       "      <td>50</td>\n",
       "      <td>F</td>\n",
       "      <td>1</td>\n",
       "      <td>201703</td>\n",
       "      <td>1</td>\n",
       "      <td>172100.0</td>\n",
       "      <td>24.2</td>\n",
       "    </tr>\n",
       "    <tr>\n",
       "      <th>3</th>\n",
       "      <td>AA00</td>\n",
       "      <td>11</td>\n",
       "      <td>C</td>\n",
       "      <td>15</td>\n",
       "      <td>12</td>\n",
       "      <td>A</td>\n",
       "      <td>0905</td>\n",
       "      <td>1</td>\n",
       "      <td>GS-12</td>\n",
       "      <td>G</td>\n",
       "      <td>XXXX</td>\n",
       "      <td>8</td>\n",
       "      <td>30</td>\n",
       "      <td>F</td>\n",
       "      <td>1</td>\n",
       "      <td>201703</td>\n",
       "      <td>1</td>\n",
       "      <td>79720.0</td>\n",
       "      <td>0.9</td>\n",
       "    </tr>\n",
       "    <tr>\n",
       "      <th>4</th>\n",
       "      <td>AA00</td>\n",
       "      <td>11</td>\n",
       "      <td>C</td>\n",
       "      <td>15</td>\n",
       "      <td>12</td>\n",
       "      <td>A</td>\n",
       "      <td>0905</td>\n",
       "      <td>1</td>\n",
       "      <td>GS-12</td>\n",
       "      <td>G</td>\n",
       "      <td>XXXX</td>\n",
       "      <td>8</td>\n",
       "      <td>30</td>\n",
       "      <td>F</td>\n",
       "      <td>1</td>\n",
       "      <td>201703</td>\n",
       "      <td>1</td>\n",
       "      <td>79720.0</td>\n",
       "      <td>0.8</td>\n",
       "    </tr>\n",
       "  </tbody>\n",
       "</table>\n",
       "</div>"
      ],
      "text/plain": [
       "  AGYSUB LOC AGELVL EDLVL GSEGRD LOSLVL   OCC  PATCO  PPGRD SALLVL STEMOCC  \\\n",
       "0   AA00  11      K    21     15      J  0905      1  GS-15      P    XXXX   \n",
       "1   AA00  11      G    15    NaN      D  0301      2  ES-**      Q    XXXX   \n",
       "2   AA00  11      H    15    NaN      G  0905      1  ES-**      Q    XXXX   \n",
       "3   AA00  11      C    15     12      A  0905      1  GS-12      G    XXXX   \n",
       "4   AA00  11      C    15     12      A  0905      1  GS-12      G    XXXX   \n",
       "\n",
       "  SUPERVIS TOA WORKSCH  WORKSTAT  DATECODE  EMPLOYMENT    SALARY   LOS  \n",
       "0        8  30       F         1    201703           1  161900.0  42.4  \n",
       "1        2  50       F         1    201703           1  172100.0   7.4  \n",
       "2        2  50       F         1    201703           1  172100.0  24.2  \n",
       "3        8  30       F         1    201703           1   79720.0   0.9  \n",
       "4        8  30       F         1    201703           1   79720.0   0.8  "
      ]
     },
     "execution_count": 2,
     "metadata": {},
     "output_type": "execute_result"
    }
   ],
   "source": [
    "employees = pd.read_csv(\n",
    "    \"../data/fedscope-data-2017-03/FACTDATA_MAR2017.TXT\",\n",
    "    low_memory=False\n",
    ")\n",
    "employees.head()"
   ]
  },
  {
   "cell_type": "markdown",
   "metadata": {},
   "source": [
    "#### Occupation codes"
   ]
  },
  {
   "cell_type": "code",
   "execution_count": 3,
   "metadata": {},
   "outputs": [
    {
     "data": {
      "text/html": [
       "<div>\n",
       "<table border=\"1\" class=\"dataframe\">\n",
       "  <thead>\n",
       "    <tr style=\"text-align: right;\">\n",
       "      <th></th>\n",
       "      <th>OCCT</th>\n",
       "    </tr>\n",
       "    <tr>\n",
       "      <th>OCC</th>\n",
       "      <th></th>\n",
       "    </tr>\n",
       "  </thead>\n",
       "  <tbody>\n",
       "    <tr>\n",
       "      <th>0006</th>\n",
       "      <td>0006-CORRECTIONAL INSTITUTION ADMINISTRATION</td>\n",
       "    </tr>\n",
       "    <tr>\n",
       "      <th>0007</th>\n",
       "      <td>0007-CORRECTIONAL OFFICER</td>\n",
       "    </tr>\n",
       "    <tr>\n",
       "      <th>0017</th>\n",
       "      <td>0017-EXPLOSIVES SAFETY</td>\n",
       "    </tr>\n",
       "    <tr>\n",
       "      <th>0018</th>\n",
       "      <td>0018-SAFETY AND OCCUPATIONAL HEALTH MANAGEMENT</td>\n",
       "    </tr>\n",
       "    <tr>\n",
       "      <th>0019</th>\n",
       "      <td>0019-SAFETY TECHNICIAN</td>\n",
       "    </tr>\n",
       "  </tbody>\n",
       "</table>\n",
       "</div>"
      ],
      "text/plain": [
       "                                                OCCT\n",
       "OCC                                                 \n",
       "0006    0006-CORRECTIONAL INSTITUTION ADMINISTRATION\n",
       "0007                       0007-CORRECTIONAL OFFICER\n",
       "0017                          0017-EXPLOSIVES SAFETY\n",
       "0018  0018-SAFETY AND OCCUPATIONAL HEALTH MANAGEMENT\n",
       "0019                          0019-SAFETY TECHNICIAN"
      ]
     },
     "execution_count": 3,
     "metadata": {},
     "output_type": "execute_result"
    }
   ],
   "source": [
    "occupation_codes = pd.read_csv(\"../data/fedscope-data-2017-03/DTocc.txt\")\\\n",
    "    .set_index(\"OCC\")[[\"OCCT\"]]\n",
    "occupation_codes.head()"
   ]
  },
  {
   "cell_type": "markdown",
   "metadata": {},
   "source": [
    "#### Subagency codes"
   ]
  },
  {
   "cell_type": "code",
   "execution_count": 4,
   "metadata": {},
   "outputs": [
    {
     "data": {
      "text/html": [
       "<div>\n",
       "<table border=\"1\" class=\"dataframe\">\n",
       "  <thead>\n",
       "    <tr style=\"text-align: right;\">\n",
       "      <th></th>\n",
       "      <th>AGYSUBT</th>\n",
       "    </tr>\n",
       "    <tr>\n",
       "      <th>AGYSUB</th>\n",
       "      <th></th>\n",
       "    </tr>\n",
       "  </thead>\n",
       "  <tbody>\n",
       "    <tr>\n",
       "      <th>AF02</th>\n",
       "      <td>AF02-AIR FORCE INSPECTION AGENCY (FO)</td>\n",
       "    </tr>\n",
       "    <tr>\n",
       "      <th>AF03</th>\n",
       "      <td>AF03-AIR FORCE OPERATIONAL TEST AND EVALUATION...</td>\n",
       "    </tr>\n",
       "    <tr>\n",
       "      <th>AF06</th>\n",
       "      <td>AF06-AIR FORCE AUDIT AGENCY</td>\n",
       "    </tr>\n",
       "    <tr>\n",
       "      <th>AF07</th>\n",
       "      <td>AF07-AIR FORCE OFFICE OF SPECIAL INVESTIGATIONS</td>\n",
       "    </tr>\n",
       "    <tr>\n",
       "      <th>AF09</th>\n",
       "      <td>AF09-AIR FORCE PERSONNEL CENTER</td>\n",
       "    </tr>\n",
       "  </tbody>\n",
       "</table>\n",
       "</div>"
      ],
      "text/plain": [
       "                                                  AGYSUBT\n",
       "AGYSUB                                                   \n",
       "AF02                AF02-AIR FORCE INSPECTION AGENCY (FO)\n",
       "AF03    AF03-AIR FORCE OPERATIONAL TEST AND EVALUATION...\n",
       "AF06                          AF06-AIR FORCE AUDIT AGENCY\n",
       "AF07      AF07-AIR FORCE OFFICE OF SPECIAL INVESTIGATIONS\n",
       "AF09                      AF09-AIR FORCE PERSONNEL CENTER"
      ]
     },
     "execution_count": 4,
     "metadata": {},
     "output_type": "execute_result"
    }
   ],
   "source": [
    "subagency_codes = pd.read_csv(\"../data/fedscope-data-2017-03/DTagy.txt\")\\\n",
    "    .set_index(\"AGYSUB\")[[\"AGYSUBT\"]]\n",
    "subagency_codes.head()"
   ]
  },
  {
   "cell_type": "markdown",
   "metadata": {},
   "source": [
    "#### Work status codes"
   ]
  },
  {
   "cell_type": "code",
   "execution_count": 5,
   "metadata": {},
   "outputs": [
    {
     "data": {
      "text/html": [
       "<div>\n",
       "<table border=\"1\" class=\"dataframe\">\n",
       "  <thead>\n",
       "    <tr style=\"text-align: right;\">\n",
       "      <th></th>\n",
       "      <th>WORKSTATT</th>\n",
       "    </tr>\n",
       "    <tr>\n",
       "      <th>WORKSTAT</th>\n",
       "      <th></th>\n",
       "    </tr>\n",
       "  </thead>\n",
       "  <tbody>\n",
       "    <tr>\n",
       "      <th>1</th>\n",
       "      <td>Non-Seasonal Full Time Permanent</td>\n",
       "    </tr>\n",
       "    <tr>\n",
       "      <th>2</th>\n",
       "      <td>Other Employees</td>\n",
       "    </tr>\n",
       "  </tbody>\n",
       "</table>\n",
       "</div>"
      ],
      "text/plain": [
       "                                 WORKSTATT\n",
       "WORKSTAT                                  \n",
       "1         Non-Seasonal Full Time Permanent\n",
       "2                          Other Employees"
      ]
     },
     "execution_count": 5,
     "metadata": {},
     "output_type": "execute_result"
    }
   ],
   "source": [
    "work_status_codes = pd.read_csv(\"../data/fedscope-data-2017-03/DTwkstat.txt\")\\\n",
    "    .set_index(\"WORKSTAT\")[[\"WORKSTATT\"]]\n",
    "work_status_codes.head()"
   ]
  },
  {
   "cell_type": "markdown",
   "metadata": {},
   "source": [
    "## Select just the DOJ GS-15s\n",
    "\n",
    "(The agency code for the Department of Justice is `DJ`.)"
   ]
  },
  {
   "cell_type": "code",
   "execution_count": 6,
   "metadata": {},
   "outputs": [
    {
     "data": {
      "text/html": [
       "<div>\n",
       "<table border=\"1\" class=\"dataframe\">\n",
       "  <thead>\n",
       "    <tr style=\"text-align: right;\">\n",
       "      <th></th>\n",
       "      <th>GSEGRD</th>\n",
       "      <th>OCCT</th>\n",
       "      <th>AGYSUBT</th>\n",
       "      <th>WORKSTATT</th>\n",
       "    </tr>\n",
       "    <tr>\n",
       "      <th>WORKSTAT</th>\n",
       "      <th></th>\n",
       "      <th></th>\n",
       "      <th></th>\n",
       "      <th></th>\n",
       "    </tr>\n",
       "  </thead>\n",
       "  <tbody>\n",
       "    <tr>\n",
       "      <th>1</th>\n",
       "      <td>15</td>\n",
       "      <td>0080-SECURITY ADMINISTRATION</td>\n",
       "      <td>DJ01-OFFICES, BOARDS AND DIVISIONS</td>\n",
       "      <td>Non-Seasonal Full Time Permanent</td>\n",
       "    </tr>\n",
       "    <tr>\n",
       "      <th>1</th>\n",
       "      <td>15</td>\n",
       "      <td>0080-SECURITY ADMINISTRATION</td>\n",
       "      <td>DJ01-OFFICES, BOARDS AND DIVISIONS</td>\n",
       "      <td>Non-Seasonal Full Time Permanent</td>\n",
       "    </tr>\n",
       "    <tr>\n",
       "      <th>1</th>\n",
       "      <td>15</td>\n",
       "      <td>0080-SECURITY ADMINISTRATION</td>\n",
       "      <td>DJ01-OFFICES, BOARDS AND DIVISIONS</td>\n",
       "      <td>Non-Seasonal Full Time Permanent</td>\n",
       "    </tr>\n",
       "    <tr>\n",
       "      <th>1</th>\n",
       "      <td>15</td>\n",
       "      <td>0080-SECURITY ADMINISTRATION</td>\n",
       "      <td>DJ01-OFFICES, BOARDS AND DIVISIONS</td>\n",
       "      <td>Non-Seasonal Full Time Permanent</td>\n",
       "    </tr>\n",
       "    <tr>\n",
       "      <th>1</th>\n",
       "      <td>15</td>\n",
       "      <td>0080-SECURITY ADMINISTRATION</td>\n",
       "      <td>DJ01-OFFICES, BOARDS AND DIVISIONS</td>\n",
       "      <td>Non-Seasonal Full Time Permanent</td>\n",
       "    </tr>\n",
       "  </tbody>\n",
       "</table>\n",
       "</div>"
      ],
      "text/plain": [
       "         GSEGRD                          OCCT  \\\n",
       "WORKSTAT                                        \n",
       "1            15  0080-SECURITY ADMINISTRATION   \n",
       "1            15  0080-SECURITY ADMINISTRATION   \n",
       "1            15  0080-SECURITY ADMINISTRATION   \n",
       "1            15  0080-SECURITY ADMINISTRATION   \n",
       "1            15  0080-SECURITY ADMINISTRATION   \n",
       "\n",
       "                                     AGYSUBT                         WORKSTATT  \n",
       "WORKSTAT                                                                        \n",
       "1         DJ01-OFFICES, BOARDS AND DIVISIONS  Non-Seasonal Full Time Permanent  \n",
       "1         DJ01-OFFICES, BOARDS AND DIVISIONS  Non-Seasonal Full Time Permanent  \n",
       "1         DJ01-OFFICES, BOARDS AND DIVISIONS  Non-Seasonal Full Time Permanent  \n",
       "1         DJ01-OFFICES, BOARDS AND DIVISIONS  Non-Seasonal Full Time Permanent  \n",
       "1         DJ01-OFFICES, BOARDS AND DIVISIONS  Non-Seasonal Full Time Permanent  "
      ]
     },
     "execution_count": 6,
     "metadata": {},
     "output_type": "execute_result"
    }
   ],
   "source": [
    "doj_gs_15 = employees[\n",
    "    (employees[\"AGYSUB\"].str.slice(0, 2) == \"DJ\") &\n",
    "    (employees[\"GSEGRD\"] == \"15\")\n",
    "][[ \"OCC\", \"AGYSUB\", \"GSEGRD\", \"WORKSTAT\" ]]\\\n",
    "    .set_index(\"OCC\").join(occupation_codes)\\\n",
    "    .set_index(\"AGYSUB\").join(subagency_codes)\\\n",
    "    .set_index(\"WORKSTAT\").join(work_status_codes)\n",
    "    \n",
    "doj_gs_15.head()"
   ]
  },
  {
   "cell_type": "markdown",
   "metadata": {},
   "source": [
    "There were 6,894 employees who met these criteria:"
   ]
  },
  {
   "cell_type": "code",
   "execution_count": 7,
   "metadata": {},
   "outputs": [
    {
     "data": {
      "text/plain": [
       "6894"
      ]
     },
     "execution_count": 7,
     "metadata": {},
     "output_type": "execute_result"
    }
   ],
   "source": [
    "len(doj_gs_15)"
   ]
  },
  {
   "cell_type": "markdown",
   "metadata": {},
   "source": [
    "... 6,315 of which were [non-seasonal full-time employees with \"no absolute end date\"](https://www.opm.gov/FAQs/QA.aspx?fid=56538f91-625a-4333-84ba-28b3574b7942&pid=1e2b48ff-5289-4b5c-a318-b2a22134e48c):"
   ]
  },
  {
   "cell_type": "code",
   "execution_count": 8,
   "metadata": {},
   "outputs": [
    {
     "data": {
      "text/plain": [
       "Non-Seasonal Full Time Permanent    6315\n",
       "Other Employees                      579\n",
       "Name: WORKSTATT, dtype: int64"
      ]
     },
     "execution_count": 8,
     "metadata": {},
     "output_type": "execute_result"
    }
   ],
   "source": [
    "doj_gs_15[\"WORKSTATT\"].value_counts()"
   ]
  },
  {
   "cell_type": "markdown",
   "metadata": {},
   "source": [
    "## Count employees by subagency and occupation"
   ]
  },
  {
   "cell_type": "code",
   "execution_count": 9,
   "metadata": {},
   "outputs": [
    {
     "data": {
      "text/html": [
       "<div>\n",
       "<table border=\"1\" class=\"dataframe\">\n",
       "  <thead>\n",
       "    <tr style=\"text-align: right;\">\n",
       "      <th></th>\n",
       "      <th>AGYSUBT</th>\n",
       "      <th>OCCT</th>\n",
       "      <th>count</th>\n",
       "    </tr>\n",
       "  </thead>\n",
       "  <tbody>\n",
       "    <tr>\n",
       "      <th>0</th>\n",
       "      <td>DJ01-OFFICES, BOARDS AND DIVISIONS</td>\n",
       "      <td>0905-GENERAL ATTORNEY</td>\n",
       "      <td>2958</td>\n",
       "    </tr>\n",
       "    <tr>\n",
       "      <th>1</th>\n",
       "      <td>DJ02-FEDERAL BUREAU OF INVESTIGATION</td>\n",
       "      <td>1811-CRIMINAL INVESTIGATION</td>\n",
       "      <td>627</td>\n",
       "    </tr>\n",
       "    <tr>\n",
       "      <th>2</th>\n",
       "      <td>DJ11-U.S. TRUSTEE PROGRAM</td>\n",
       "      <td>0905-GENERAL ATTORNEY</td>\n",
       "      <td>243</td>\n",
       "    </tr>\n",
       "    <tr>\n",
       "      <th>3</th>\n",
       "      <td>DJ06-DRUG ENFORCEMENT ADMINISTRATION</td>\n",
       "      <td>1811-CRIMINAL INVESTIGATION</td>\n",
       "      <td>237</td>\n",
       "    </tr>\n",
       "    <tr>\n",
       "      <th>4</th>\n",
       "      <td>DJ03-BUREAU OF PRISONS/FEDERAL PRISON SYSTEM</td>\n",
       "      <td>0602-MEDICAL OFFICER</td>\n",
       "      <td>210</td>\n",
       "    </tr>\n",
       "  </tbody>\n",
       "</table>\n",
       "</div>"
      ],
      "text/plain": [
       "                                        AGYSUBT                         OCCT  \\\n",
       "0            DJ01-OFFICES, BOARDS AND DIVISIONS        0905-GENERAL ATTORNEY   \n",
       "1          DJ02-FEDERAL BUREAU OF INVESTIGATION  1811-CRIMINAL INVESTIGATION   \n",
       "2                     DJ11-U.S. TRUSTEE PROGRAM        0905-GENERAL ATTORNEY   \n",
       "3          DJ06-DRUG ENFORCEMENT ADMINISTRATION  1811-CRIMINAL INVESTIGATION   \n",
       "4  DJ03-BUREAU OF PRISONS/FEDERAL PRISON SYSTEM         0602-MEDICAL OFFICER   \n",
       "\n",
       "   count  \n",
       "0   2958  \n",
       "1    627  \n",
       "2    243  \n",
       "3    237  \n",
       "4    210  "
      ]
     },
     "execution_count": 9,
     "metadata": {},
     "output_type": "execute_result"
    }
   ],
   "source": [
    "counts = doj_gs_15.groupby([ \"AGYSUBT\", \"OCCT\" ]).size()\\\n",
    "    .sort_values(ascending=False).to_frame(\"count\").reset_index()\\\n",
    "    .sort_values([ \"count\", \"AGYSUBT\", \"OCCT\" ], ascending=[ False, True, True ])\\\n",
    "    [[\"AGYSUBT\", \"OCCT\", \"count\"]]\n",
    "\n",
    "counts.to_csv(\"../output/doj-gs-15-by-subagency-and-occupation.csv\", index=False)\n",
    "counts.head()"
   ]
  },
  {
   "cell_type": "code",
   "execution_count": 10,
   "metadata": {},
   "outputs": [
    {
     "data": {
      "text/html": [
       "<div>\n",
       "<table border=\"1\" class=\"dataframe\">\n",
       "  <thead>\n",
       "    <tr style=\"text-align: right;\">\n",
       "      <th></th>\n",
       "      <th>AGYSUBT</th>\n",
       "      <th>count</th>\n",
       "    </tr>\n",
       "  </thead>\n",
       "  <tbody>\n",
       "    <tr>\n",
       "      <th>0</th>\n",
       "      <td>DJ01-OFFICES, BOARDS AND DIVISIONS</td>\n",
       "      <td>3302</td>\n",
       "    </tr>\n",
       "    <tr>\n",
       "      <th>1</th>\n",
       "      <td>DJ02-FEDERAL BUREAU OF INVESTIGATION</td>\n",
       "      <td>1493</td>\n",
       "    </tr>\n",
       "    <tr>\n",
       "      <th>3</th>\n",
       "      <td>DJ06-DRUG ENFORCEMENT ADMINISTRATION</td>\n",
       "      <td>456</td>\n",
       "    </tr>\n",
       "    <tr>\n",
       "      <th>2</th>\n",
       "      <td>DJ03-BUREAU OF PRISONS/FEDERAL PRISON SYSTEM</td>\n",
       "      <td>441</td>\n",
       "    </tr>\n",
       "    <tr>\n",
       "      <th>8</th>\n",
       "      <td>DJ11-U.S. TRUSTEE PROGRAM</td>\n",
       "      <td>275</td>\n",
       "    </tr>\n",
       "  </tbody>\n",
       "</table>\n",
       "</div>"
      ],
      "text/plain": [
       "                                        AGYSUBT  count\n",
       "0            DJ01-OFFICES, BOARDS AND DIVISIONS   3302\n",
       "1          DJ02-FEDERAL BUREAU OF INVESTIGATION   1493\n",
       "3          DJ06-DRUG ENFORCEMENT ADMINISTRATION    456\n",
       "2  DJ03-BUREAU OF PRISONS/FEDERAL PRISON SYSTEM    441\n",
       "8                     DJ11-U.S. TRUSTEE PROGRAM    275"
      ]
     },
     "execution_count": 10,
     "metadata": {},
     "output_type": "execute_result"
    }
   ],
   "source": [
    "subagency_counts = counts.groupby(\"AGYSUBT\")[\"count\"].sum()\\\n",
    "    .reset_index()\\\n",
    "    .sort_values([ \"count\", \"AGYSUBT\" ], ascending=[ False, True ])\n",
    "    \n",
    "subagency_counts.to_csv(\"../output/doj-gs-15-by-subagency.csv\", index=False)\n",
    "subagency_counts.head()"
   ]
  },
  {
   "cell_type": "code",
   "execution_count": 11,
   "metadata": {},
   "outputs": [
    {
     "data": {
      "text/html": [
       "<div>\n",
       "<table border=\"1\" class=\"dataframe\">\n",
       "  <thead>\n",
       "    <tr style=\"text-align: right;\">\n",
       "      <th></th>\n",
       "      <th>OCCT</th>\n",
       "      <th>count</th>\n",
       "    </tr>\n",
       "  </thead>\n",
       "  <tbody>\n",
       "    <tr>\n",
       "      <th>37</th>\n",
       "      <td>0905-GENERAL ATTORNEY</td>\n",
       "      <td>3916</td>\n",
       "    </tr>\n",
       "    <tr>\n",
       "      <th>65</th>\n",
       "      <td>1811-CRIMINAL INVESTIGATION</td>\n",
       "      <td>1059</td>\n",
       "    </tr>\n",
       "    <tr>\n",
       "      <th>68</th>\n",
       "      <td>2210-INFORMATION TECHNOLOGY MANAGEMENT</td>\n",
       "      <td>263</td>\n",
       "    </tr>\n",
       "    <tr>\n",
       "      <th>18</th>\n",
       "      <td>0343-MANAGEMENT AND PROGRAM ANALYSIS</td>\n",
       "      <td>238</td>\n",
       "    </tr>\n",
       "    <tr>\n",
       "      <th>27</th>\n",
       "      <td>0602-MEDICAL OFFICER</td>\n",
       "      <td>214</td>\n",
       "    </tr>\n",
       "  </tbody>\n",
       "</table>\n",
       "</div>"
      ],
      "text/plain": [
       "                                      OCCT  count\n",
       "37                   0905-GENERAL ATTORNEY   3916\n",
       "65             1811-CRIMINAL INVESTIGATION   1059\n",
       "68  2210-INFORMATION TECHNOLOGY MANAGEMENT    263\n",
       "18    0343-MANAGEMENT AND PROGRAM ANALYSIS    238\n",
       "27                    0602-MEDICAL OFFICER    214"
      ]
     },
     "execution_count": 11,
     "metadata": {},
     "output_type": "execute_result"
    }
   ],
   "source": [
    "occupation_counts = counts.groupby(\"OCCT\")[\"count\"].sum()\\\n",
    "    .reset_index()\\\n",
    "    .sort_values([ \"count\", \"OCCT\" ], ascending=[ False, True ])\n",
    "    \n",
    "occupation_counts.to_csv(\"../output/doj-gs-15-by-occupation.csv\", index=False)\n",
    "occupation_counts.head()"
   ]
  },
  {
   "cell_type": "markdown",
   "metadata": {},
   "source": [
    "---\n",
    "\n",
    "---\n",
    "\n",
    "---"
   ]
  }
 ],
 "metadata": {
  "kernelspec": {
   "display_name": "Python 3",
   "language": "python",
   "name": "python3"
  },
  "language_info": {
   "codemirror_mode": {
    "name": "ipython",
    "version": 3
   },
   "file_extension": ".py",
   "mimetype": "text/x-python",
   "name": "python",
   "nbconvert_exporter": "python",
   "pygments_lexer": "ipython3",
   "version": "3.4.3"
  }
 },
 "nbformat": 4,
 "nbformat_minor": 2
}
